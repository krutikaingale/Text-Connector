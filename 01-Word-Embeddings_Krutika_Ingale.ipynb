{
 "cells": [
  {
   "cell_type": "code",
   "execution_count": 1,
   "metadata": {},
   "outputs": [
    {
     "name": "stderr",
     "output_type": "stream",
     "text": [
      "Using TensorFlow backend.\n"
     ]
    }
   ],
   "source": [
    "import matplotlib.pyplot as plt\n",
    "%matplotlib inline\n",
    "plt.style.use('ggplot')\n",
    "from datascience import *\n",
    "import numpy as np\n",
    "from scipy.spatial.distance import cosine\n",
    "import gensim\n",
    "import nltk\n",
    "from string import punctuation"
   ]
  },
  {
   "cell_type": "markdown",
   "metadata": {},
   "source": [
    "# Word Embedding\n",
    "\n",
    "This lesson is designed to explore features of word embeddings described by Ben Schmidt in his blog post <a href=\"http://bookworm.benschmidt.org/posts/2015-10-30-rejecting-the-gender-binary.html\">\"Rejecting the Gender Binary\"</a>.\n",
    "\n",
    "The primary corpus we use consists of the <a href=\"http://txtlab.org/?p=601\">150 English-language novels</a> made available by the .txtLab at McGill. We also look at a <a href=\"http://ryanheuser.org/word-vectors-1/\">Word2Vec model trained on the ECCO-TCP corpus</a> of 2,350 eighteenth-century literary texts made available by Ryan Heuser. (I have shortened the number of terms in the model by half in order to conserve memory.)\n",
    "\n",
    "For background on Word2Vec's mechanics, I suggest this <a href=\"https://www.tensorflow.org/versions/r0.8/tutorials/word2vec/index.html\">brief tutorial</a> by Google, especially the sections \"Motivation,\" \"Skip-Gram Model,\" and \"Visualizing.\"\n",
    "\n",
    "We'll read in Andrew Piper's corpus we used in our Topic Modeling notebook:"
   ]
  },
  {
   "cell_type": "code",
   "execution_count": 2,
   "metadata": {},
   "outputs": [],
   "source": [
    "metadata_tb = Table.read_table('../09-Topic-Modeling/data/txtlab_Novel150_English.csv')\n",
    "\n",
    "fiction_path = '../09-Topic-Modeling/data/txtlab_Novel150_English/'\n",
    "\n",
    "novel_list = []\n",
    "\n",
    "# Iterate through filenames in metadata table\n",
    "for filename in metadata_tb['filename']:\n",
    "    \n",
    "    # Read in novel text as single string, make lowercase\n",
    "    with open(fiction_path + filename, 'r') as file_in:\n",
    "        novel = file_in.read()\n",
    "    \n",
    "    # Add novel text as single string to master list\n",
    "    novel_list.append(novel)"
   ]
  },
  {
   "cell_type": "markdown",
   "metadata": {},
   "source": [
    "---\n",
    "\n",
    "# Pre-Processing\n",
    "\n",
    "Word2Vec learns about the relationships among words by observing them in context. We'll need to tokenize the words in our corpus while retaining sentence boundaries. Since novels were imported as single strings, we'll first use <i>sent_tokenize</i> to divide them into sentences, and second, we'll split each sentence into its own list of words.\n",
    "\n",
    "We'll use `nltk`'s sentence tokenizer:"
   ]
  },
  {
   "cell_type": "code",
   "execution_count": 3,
   "metadata": {},
   "outputs": [],
   "source": [
    "from nltk.tokenize import sent_tokenize"
   ]
  },
  {
   "cell_type": "markdown",
   "metadata": {},
   "source": [
    "Due to memory and time constraints we'll use our quick and dirty tokenizer:"
   ]
  },
  {
   "cell_type": "code",
   "execution_count": 4,
   "metadata": {},
   "outputs": [],
   "source": [
    "def fast_tokenize(text):\n",
    "    \n",
    "    # Iterate through text removing punctuation characters\n",
    "    no_punct = \"\".join([char for char in text if char not in punctuation])\n",
    "    \n",
    "    # Split text over whitespace into list of words\n",
    "    tokens = no_punct.split()\n",
    "    \n",
    "    return tokens"
   ]
  },
  {
   "cell_type": "markdown",
   "metadata": {},
   "source": [
    "First get the sentences:"
   ]
  },
  {
   "cell_type": "code",
   "execution_count": 5,
   "metadata": {},
   "outputs": [],
   "source": [
    "sentences = [sentence for novel in novel_list for sentence in sent_tokenize(novel)]"
   ]
  },
  {
   "cell_type": "markdown",
   "metadata": {},
   "source": [
    "Now the words:"
   ]
  },
  {
   "cell_type": "code",
   "execution_count": 6,
   "metadata": {},
   "outputs": [],
   "source": [
    "words_by_sentence = [fast_tokenize(sentence.lower()) for sentence in sentences]"
   ]
  },
  {
   "cell_type": "markdown",
   "metadata": {},
   "source": [
    "We'll double check that we don't have any empty sentences:"
   ]
  },
  {
   "cell_type": "code",
   "execution_count": 7,
   "metadata": {},
   "outputs": [],
   "source": [
    "words_by_sentence = [sentence for sentence in words_by_sentence if sentence != []]"
   ]
  },
  {
   "cell_type": "markdown",
   "metadata": {},
   "source": [
    "We should now have a `list` of `list`s with sentences and words:"
   ]
  },
  {
   "cell_type": "code",
   "execution_count": 8,
   "metadata": {},
   "outputs": [
    {
     "data": {
      "text/plain": [
       "[['author’s',\n",
       "  'introduction',\n",
       "  'my',\n",
       "  'dog',\n",
       "  'had',\n",
       "  'made',\n",
       "  'a',\n",
       "  'point',\n",
       "  'on',\n",
       "  'a',\n",
       "  'piece',\n",
       "  'of',\n",
       "  'fallowground',\n",
       "  'and',\n",
       "  'led',\n",
       "  'the',\n",
       "  'curate',\n",
       "  'and',\n",
       "  'me',\n",
       "  'two',\n",
       "  'or',\n",
       "  'three',\n",
       "  'hundred',\n",
       "  'yards',\n",
       "  'over',\n",
       "  'that',\n",
       "  'and',\n",
       "  'some',\n",
       "  'stubble',\n",
       "  'adjoining',\n",
       "  'in',\n",
       "  'a',\n",
       "  'breathless',\n",
       "  'state',\n",
       "  'of',\n",
       "  'expectation',\n",
       "  'on',\n",
       "  'a',\n",
       "  'burning',\n",
       "  'first',\n",
       "  'of',\n",
       "  'september'],\n",
       " ['it',\n",
       "  'was',\n",
       "  'a',\n",
       "  'false',\n",
       "  'point',\n",
       "  'and',\n",
       "  'our',\n",
       "  'labour',\n",
       "  'was',\n",
       "  'vain',\n",
       "  'yet',\n",
       "  'to',\n",
       "  'do',\n",
       "  'rover',\n",
       "  'justice',\n",
       "  'for',\n",
       "  'he’s',\n",
       "  'an',\n",
       "  'excellent',\n",
       "  'dog',\n",
       "  'though',\n",
       "  'i',\n",
       "  'have',\n",
       "  'lost',\n",
       "  'his',\n",
       "  'pedigree',\n",
       "  'the',\n",
       "  'fault',\n",
       "  'was',\n",
       "  'none',\n",
       "  'of',\n",
       "  'his',\n",
       "  'the',\n",
       "  'birds',\n",
       "  'were',\n",
       "  'gone',\n",
       "  'the',\n",
       "  'curate',\n",
       "  'showed',\n",
       "  'me',\n",
       "  'the',\n",
       "  'spot',\n",
       "  'where',\n",
       "  'they',\n",
       "  'had',\n",
       "  'lain',\n",
       "  'basking',\n",
       "  'at',\n",
       "  'the',\n",
       "  'root',\n",
       "  'of',\n",
       "  'an',\n",
       "  'old',\n",
       "  'hedge']]"
      ]
     },
     "execution_count": 8,
     "metadata": {},
     "output_type": "execute_result"
    }
   ],
   "source": [
    "words_by_sentence[:2]"
   ]
  },
  {
   "cell_type": "markdown",
   "metadata": {
    "collapsed": true
   },
   "source": [
    "---\n",
    "\n",
    "# Word2Vec\n",
    "\n",
    "### Word Embeddings\n",
    "Word2Vec is the most prominent word embedding algorithm. Word embedding generally attempts to identify semantic relationships between words by observing them in context.\n",
    "\n",
    "Imagine that each word in a novel has its meaning determined by the ones that surround it in a limited window. For example, in Moby Dick's first sentence, “me” is paired on either side by “Call” and “Ishmael.” After observing the windows around every word in the novel (or many novels), the computer will notice a pattern in which “me” falls between similar pairs of words to “her,” “him,” or “them.” Of course, the computer had gone through a similar process over the words “Call” and “Ishmael,” for which “me” is reciprocally part of their contexts.  This chaining of signifiers to one another mirrors some of humanists' most sophisticated interpretative frameworks of language.\n",
    "\n",
    "The two main flavors of Word2Vec are CBOW (Continuous Bag of Words) and Skip-Gram, which can be distinguished partly by their input and output during training. Skip-Gram takes a word of interest as its input (e.g. \"me\") and tries to learn how to predict its context words (\"Call\",\"Ishmael\"). CBOW does the opposite, taking the context words (\"Call\",\"Ishmael\") as a single input and tries to predict the word of interest (\"me\").\n",
    "\n",
    "In general, CBOW is is faster and does well with frequent words, while Skip-Gram potentially represents rare words better.\n",
    "\n",
    "### Word2Vec Features\n",
    "<ul>\n",
    "<li>`size`: Number of dimensions for word embedding model</li>\n",
    "<li>`window`: Number of context words to observe in each direction</li>\n",
    "<li>`min_count`: Minimum frequency for words included in model</li>\n",
    "<li>`sg` (Skip-Gram): '0' indicates CBOW model; '1' indicates Skip-Gram</li>\n",
    "<li>`alpha`: Learning rate (initial); prevents model from over-correcting, enables finer tuning</li>\n",
    "<li>`iterations`: Number of passes through dataset</li>\n",
    "<li>`batch_words`: Number of words to sample from data during each pass</li>\n",
    "</ul>\n",
    "\n",
    "Note: cell below uses default value for each argument"
   ]
  },
  {
   "cell_type": "markdown",
   "metadata": {},
   "source": [
    "## Training\n",
    "\n",
    "We've gotten accustomed to training powerful models in Python with one line of code, why stop now?"
   ]
  },
  {
   "cell_type": "code",
   "execution_count": 9,
   "metadata": {},
   "outputs": [],
   "source": [
    "model = gensim.models.Word2Vec(words_by_sentence, size=100, window=5, \\\n",
    "                               min_count=5, sg=0, alpha=0.025, iter=5, batch_words=10000)"
   ]
  },
  {
   "cell_type": "markdown",
   "metadata": {},
   "source": [
    "## Embeddings\n",
    "\n",
    "We can return the actual high-dimensional vector by simply indexing the model with the word as the key:"
   ]
  },
  {
   "cell_type": "code",
   "execution_count": 10,
   "metadata": {},
   "outputs": [
    {
     "data": {
      "text/plain": [
       "array([ -2.27336550e+00,  -4.96827871e-01,   3.96743596e-01,\n",
       "        -3.90099287e-01,  -4.04696584e-01,  -1.23449183e+00,\n",
       "         1.39637733e+00,   4.62491244e-01,   1.58219969e+00,\n",
       "        -5.53411067e-01,  -1.36463618e+00,   1.08154547e+00,\n",
       "        -9.71694589e-01,  -1.02774096e+00,   8.59629214e-01,\n",
       "         7.48246253e-01,   1.62878668e+00,   2.23547637e-01,\n",
       "         9.85610187e-01,  -1.81456971e+00,  -8.64322603e-01,\n",
       "        -1.24552023e+00,   1.49370337e+00,  -1.45119265e-01,\n",
       "        -3.79700422e-01,  -6.21708925e-04,  -1.33703578e+00,\n",
       "         1.00775259e-02,  -1.61727870e+00,   6.15913868e-01,\n",
       "        -1.25048852e+00,  -1.99238622e+00,  -9.06213224e-01,\n",
       "        -1.53188419e+00,   1.13445795e+00,  -4.77040410e-01,\n",
       "         6.68763041e-01,   1.54968128e-01,  -6.64280713e-01,\n",
       "        -1.91718864e+00,  -1.76358968e-01,   8.62981603e-02,\n",
       "        -6.27527833e-01,   1.51731655e-01,   6.20771885e-01,\n",
       "        -9.69930351e-01,  -7.12331057e-01,  -7.20959425e-01,\n",
       "        -4.88411248e-01,  -4.80336428e-01,  -8.90503824e-01,\n",
       "         5.41046023e-01,   3.36504221e-01,  -2.07781005e+00,\n",
       "        -8.48483503e-01,   2.19694471e+00,   1.19486248e+00,\n",
       "        -2.02422142e+00,  -3.16767383e+00,  -1.74479592e+00,\n",
       "        -1.71999300e+00,   6.20566130e-01,  -2.07016802e+00,\n",
       "         1.91076487e-01,  -8.51029932e-01,  -2.30918884e+00,\n",
       "        -2.41313219e+00,  -5.75865805e-01,   1.94943815e-01,\n",
       "        -9.93286729e-01,  -1.59864053e-01,   1.49666238e+00,\n",
       "        -1.11748874e+00,   6.03066742e-01,   3.46750557e-01,\n",
       "         5.76419353e-01,   1.36762142e+00,  -2.10567021e+00,\n",
       "        -7.74325371e-01,  -1.91926122e-01,   6.78545654e-01,\n",
       "        -8.80982399e-01,  -5.43744385e-01,   7.38245666e-01,\n",
       "        -7.04399645e-01,  -7.41061807e-01,  -7.53516197e-01,\n",
       "        -2.89858013e-01,  -7.69380689e-01,  -1.75324416e+00,\n",
       "        -1.00003886e+00,  -4.54814315e-01,  -8.06956947e-01,\n",
       "         6.62631035e-01,  -2.72192061e-01,   1.10772097e+00,\n",
       "        -3.10187675e-02,   1.85486960e+00,  -1.25594175e+00,\n",
       "        -4.47889686e-01], dtype=float32)"
      ]
     },
     "execution_count": 10,
     "metadata": {},
     "output_type": "execute_result"
    }
   ],
   "source": [
    "model['whale']"
   ]
  },
  {
   "cell_type": "markdown",
   "metadata": {},
   "source": [
    "`gensim` comes with some handy methods to analyze word relationships. `similarity` will give us a number from 0-1 based on how similar two words are. If this sounds like cosine similarity for words, you'd be right! It just takes the cosine similarity of these high dimensional vectors:"
   ]
  },
  {
   "cell_type": "code",
   "execution_count": 11,
   "metadata": {},
   "outputs": [
    {
     "data": {
      "text/plain": [
       "0.64836012480569127"
      ]
     },
     "execution_count": 11,
     "metadata": {},
     "output_type": "execute_result"
    }
   ],
   "source": [
    "model.similarity('sense','sensibility')"
   ]
  },
  {
   "cell_type": "markdown",
   "metadata": {},
   "source": [
    "We can also find cosine distance between two clusters of word vectors. Each cluster is measured as the mean of its words:"
   ]
  },
  {
   "cell_type": "code",
   "execution_count": 12,
   "metadata": {},
   "outputs": [
    {
     "data": {
      "text/plain": [
       "0.12442688875556145"
      ]
     },
     "execution_count": 12,
     "metadata": {},
     "output_type": "execute_result"
    }
   ],
   "source": [
    "model.n_similarity(['sense','sensibility'],['whale','harpoon'])"
   ]
  },
  {
   "cell_type": "markdown",
   "metadata": {},
   "source": [
    "We can find words that don't belong with `doesnt_match`. It finds the mean vector of the words in the `list`, and identifies the furthest away:"
   ]
  },
  {
   "cell_type": "code",
   "execution_count": 13,
   "metadata": {},
   "outputs": [
    {
     "data": {
      "text/plain": [
       "'harpoon'"
      ]
     },
     "execution_count": 13,
     "metadata": {},
     "output_type": "execute_result"
    }
   ],
   "source": [
    "model.doesnt_match(['pride','prejudice', 'harpoon'])"
   ]
  },
  {
   "cell_type": "markdown",
   "metadata": {},
   "source": [
    "The most famous implementation of this vector math is semantics. What happens if we take:\n",
    "\n",
    "$$King - Man + Woman = $$"
   ]
  },
  {
   "cell_type": "code",
   "execution_count": 14,
   "metadata": {},
   "outputs": [
    {
     "data": {
      "text/plain": [
       "[('princess', 0.7416763305664062),\n",
       " ('queen', 0.7214570045471191),\n",
       " ('saint', 0.6903055310249329),\n",
       " ('duke', 0.6820172071456909),\n",
       " ('emperor', 0.6537982821464539),\n",
       " ('duchess', 0.6393168568611145),\n",
       " ('priest', 0.6311855912208557),\n",
       " ('virgin', 0.6294018030166626),\n",
       " ('conqueror', 0.6254926919937134),\n",
       " ('abbot', 0.6240617036819458)]"
      ]
     },
     "execution_count": 14,
     "metadata": {},
     "output_type": "execute_result"
    }
   ],
   "source": [
    "model.most_similar(positive=['woman', 'king'], negative=['man'])"
   ]
  },
  {
   "cell_type": "markdown",
   "metadata": {},
   "source": [
    "Schmidt looked at words associated with male and female pronouns to investigate gender. Let's try take all the female pronouns and subtracting the male pronouns:"
   ]
  },
  {
   "cell_type": "code",
   "execution_count": 15,
   "metadata": {},
   "outputs": [
    {
     "data": {
      "text/plain": [
       "[('lovely', 0.502685546875),\n",
       " ('maiden', 0.47776973247528076),\n",
       " ('beautiful', 0.4759494662284851),\n",
       " ('miss', 0.46963489055633545),\n",
       " ('beauty', 0.4566827714443207),\n",
       " ('sweet', 0.43204039335250854),\n",
       " ('innocent', 0.4234784245491028),\n",
       " ('girlish', 0.42034807801246643),\n",
       " ('anne', 0.4179074168205261),\n",
       " ('charms', 0.4139993488788605)]"
      ]
     },
     "execution_count": 15,
     "metadata": {},
     "output_type": "execute_result"
    }
   ],
   "source": [
    "model.most_similar(positive=['she','her','hers','herself'], negative=['he','him','his','himself'])"
   ]
  },
  {
   "cell_type": "markdown",
   "metadata": {},
   "source": [
    "And the opposite:"
   ]
  },
  {
   "cell_type": "code",
   "execution_count": 16,
   "metadata": {},
   "outputs": [
    {
     "data": {
      "text/plain": [
       "[('horse', 0.4664072096347809),\n",
       " ('moby', 0.44690239429473877),\n",
       " ('bill', 0.43676984310150146),\n",
       " ('lazarus', 0.41751667857170105),\n",
       " ('ahab', 0.415912389755249),\n",
       " ('manfully', 0.4150606393814087),\n",
       " ('captain', 0.41503840684890747),\n",
       " ('clerk', 0.41258805990219116),\n",
       " ('steward', 0.4109916388988495),\n",
       " ('cyril', 0.41083717346191406)]"
      ]
     },
     "execution_count": 16,
     "metadata": {},
     "output_type": "execute_result"
    }
   ],
   "source": [
    "model.most_similar(positive=['he','him','his','himself'], negative=['she','her','hers','herself'])"
   ]
  },
  {
   "cell_type": "markdown",
   "metadata": {},
   "source": [
    "How about together (*genderless* in Schmidt's sense)?"
   ]
  },
  {
   "cell_type": "code",
   "execution_count": 17,
   "metadata": {
    "scrolled": true
   },
   "outputs": [
    {
     "data": {
      "text/plain": [
       "[('edgar', 0.6176052093505859),\n",
       " ('camilla', 0.5952227115631104),\n",
       " ('antonia', 0.5951999425888062),\n",
       " ('them', 0.5831330418586731),\n",
       " ('itself', 0.5744680166244507),\n",
       " ('eugenia', 0.570426344871521),\n",
       " ('it', 0.5593734383583069),\n",
       " ('adeline', 0.5567945241928101),\n",
       " ('margaret', 0.5535603761672974),\n",
       " ('carrie', 0.5433840155601501),\n",
       " ('eleanor', 0.5430295467376709),\n",
       " ('cora', 0.5408198833465576),\n",
       " ('savonarola', 0.5372533798217773),\n",
       " ('indiana', 0.5339543223381042),\n",
       " ('carwin', 0.5265582799911499),\n",
       " ('aileen', 0.5252206921577454),\n",
       " ('erica', 0.5229066014289856),\n",
       " ('elinor', 0.5226877927780151),\n",
       " ('amy', 0.5205459594726562),\n",
       " ('algernon', 0.5184049010276794),\n",
       " ('me', 0.5152862071990967),\n",
       " ('constraint', 0.515021800994873),\n",
       " ('catherine', 0.5102472901344299),\n",
       " ('munro', 0.5100835561752319),\n",
       " ('edward', 0.5094944834709167),\n",
       " ('clermont', 0.5048537850379944),\n",
       " ('isabel', 0.5034631490707397),\n",
       " ('valancourt', 0.5023504495620728),\n",
       " ('kim', 0.5022979974746704),\n",
       " ('leonora', 0.5018230676651001),\n",
       " ('magua', 0.5014692544937134),\n",
       " ('rhoda', 0.4991867244243622),\n",
       " ('illtemper', 0.49769389629364014),\n",
       " ('jo', 0.49644625186920166),\n",
       " ('disapprobation', 0.4948806166648865),\n",
       " ('marianne', 0.4927206039428711),\n",
       " ('maggie', 0.4910057783126831),\n",
       " ('heyward', 0.4904366135597229),\n",
       " ('rebecca', 0.4903925657272339),\n",
       " ('tess', 0.48777762055397034),\n",
       " ('lily', 0.4840327501296997),\n",
       " ('latter', 0.48146677017211914),\n",
       " ('duncan', 0.48063912987709045),\n",
       " ('belinda', 0.4805896282196045),\n",
       " ('agnes', 0.47870558500289917),\n",
       " ('welbeck', 0.47831636667251587),\n",
       " ('anxiety', 0.4755129814147949),\n",
       " ('cecilia', 0.473427951335907),\n",
       " ('aspasia', 0.47342580556869507),\n",
       " ('myself', 0.47164201736450195)]"
      ]
     },
     "execution_count": 17,
     "metadata": {},
     "output_type": "execute_result"
    }
   ],
   "source": [
    "model.most_similar(positive=['she','her','hers','herself','he','him','his','himself'], topn=50)"
   ]
  },
  {
   "cell_type": "markdown",
   "metadata": {},
   "source": [
    "---\n",
    "\n",
    "# Homework\n",
    "\n",
    "Use the `most_similar` method to find the tokens nearest to 'car' in our model. Do the same for 'motorcar'."
   ]
  },
  {
   "cell_type": "code",
   "execution_count": 18,
   "metadata": {},
   "outputs": [
    {
     "data": {
      "text/plain": [
       "[('wagon', 0.8360811471939087),\n",
       " ('coach', 0.8272905349731445),\n",
       " ('cab', 0.8220912218093872),\n",
       " ('buggy', 0.8058090209960938),\n",
       " ('cart', 0.799831211566925),\n",
       " ('vehicle', 0.7998005747795105),\n",
       " ('barn', 0.7873604893684387),\n",
       " ('boat', 0.7845875024795532),\n",
       " ('sleigh', 0.7743357419967651),\n",
       " ('team', 0.7722744941711426)]"
      ]
     },
     "execution_count": 18,
     "metadata": {},
     "output_type": "execute_result"
    }
   ],
   "source": [
    "model.most_similar(positive=['car'])"
   ]
  },
  {
   "cell_type": "code",
   "execution_count": 19,
   "metadata": {},
   "outputs": [
    {
     "data": {
      "text/plain": [
       "[('seedcake', 0.7086451053619385),\n",
       " ('haystack', 0.7075169086456299),\n",
       " ('woodpile', 0.7016493082046509),\n",
       " ('roosted', 0.6933606863021851),\n",
       " ('squirt', 0.6862908601760864),\n",
       " ('cockleshell', 0.6830296516418457),\n",
       " ('sewer', 0.6827046275138855),\n",
       " ('hogshead', 0.6826945543289185),\n",
       " ('tendollar', 0.6799261569976807),\n",
       " ('spool', 0.6785520911216736)]"
      ]
     },
     "execution_count": 19,
     "metadata": {},
     "output_type": "execute_result"
    }
   ],
   "source": [
    "model.most_similar(positive=['motorcar'])"
   ]
  },
  {
   "cell_type": "markdown",
   "metadata": {},
   "source": [
    "What characterizes each word in our corpus? Does this make sense?"
   ]
  },
  {
   "cell_type": "markdown",
   "metadata": {},
   "source": [
    "The similarity of the word to another word. This makes sense, because each word's similarity to another can be quantified using the cosine similarity. "
   ]
  },
  {
   "cell_type": "markdown",
   "metadata": {
    "collapsed": true
   },
   "source": [
    "Vector addition and subtraction can be thought of in terms of analogy. From the example above: 'man' is to 'king' as 'woman' is to '???'. Use the `most_similar` method to find: 'paris' is to 'france' as 'london' is to '???'"
   ]
  },
  {
   "cell_type": "code",
   "execution_count": 20,
   "metadata": {},
   "outputs": [
    {
     "data": {
      "text/plain": [
       "[('england', 0.7840549945831299),\n",
       " ('spain', 0.7614985108375549),\n",
       " ('america', 0.7572265863418579),\n",
       " ('italy', 0.7432318925857544),\n",
       " ('germany', 0.7313573956489563),\n",
       " ('scotland', 0.7202014923095703),\n",
       " ('india', 0.7055636644363403),\n",
       " ('europe', 0.6962637901306152),\n",
       " ('city', 0.6950817108154297),\n",
       " ('ireland', 0.6937568187713623)]"
      ]
     },
     "execution_count": 20,
     "metadata": {},
     "output_type": "execute_result"
    }
   ],
   "source": [
    "model.most_similar(positive=['london', 'france'], negative=['paris'])"
   ]
  },
  {
   "cell_type": "markdown",
   "metadata": {
    "collapsed": true
   },
   "source": [
    "What has our model learned about nation-states?"
   ]
  },
  {
   "cell_type": "markdown",
   "metadata": {},
   "source": [
    "It has learned that certain cities are more likely to be in certain countries. It correctly predicted that London is most similar to England, because London is a major city in London."
   ]
  },
  {
   "cell_type": "markdown",
   "metadata": {
    "collapsed": true
   },
   "source": [
    "Perform the canonic Word2Vec addition again but leave out a term. Try 'king' - 'man', 'woman' - 'man', 'woman' + 'king'."
   ]
  },
  {
   "cell_type": "code",
   "execution_count": 21,
   "metadata": {},
   "outputs": [
    {
     "data": {
      "text/plain": [
       "[('sheba', 0.532245397567749),\n",
       " ('casimir', 0.49883437156677246),\n",
       " ('vespers', 0.49645933508872986),\n",
       " ('strelsau', 0.4915085434913635),\n",
       " ('medina', 0.49000799655914307),\n",
       " ('steyne', 0.489401638507843),\n",
       " ('wellington', 0.48672500252723694),\n",
       " ('macadams', 0.48476657271385193),\n",
       " ('royal', 0.4840894043445587),\n",
       " ('ruritania', 0.47716692090034485)]"
      ]
     },
     "execution_count": 21,
     "metadata": {},
     "output_type": "execute_result"
    }
   ],
   "source": [
    "model.most_similar(positive=['king'], negative=['man'])"
   ]
  },
  {
   "cell_type": "code",
   "execution_count": 22,
   "metadata": {},
   "outputs": [
    {
     "data": {
      "text/plain": [
       "[('maiden', 0.5190343856811523),\n",
       " ('lovely', 0.480085164308548),\n",
       " ('beautiful', 0.47629043459892273),\n",
       " ('jane', 0.47506430745124817),\n",
       " ('susan', 0.46571850776672363),\n",
       " ('charming', 0.45558297634124756),\n",
       " ('penelope', 0.4548298120498657),\n",
       " ('maid', 0.4528403580188751),\n",
       " ('louisa', 0.45028048753738403),\n",
       " ('flowers', 0.44268670678138733)]"
      ]
     },
     "execution_count": 22,
     "metadata": {},
     "output_type": "execute_result"
    }
   ],
   "source": [
    "model.most_similar(positive=['woman'], negative=['man'])"
   ]
  },
  {
   "cell_type": "code",
   "execution_count": 23,
   "metadata": {},
   "outputs": [
    {
     "data": {
      "text/plain": [
       "[('priest', 0.7774257063865662),\n",
       " ('jew', 0.7717772722244263),\n",
       " ('man', 0.7595362067222595),\n",
       " ('clergyman', 0.753511369228363),\n",
       " ('minister', 0.7329345941543579),\n",
       " ('nobleman', 0.7250956296920776),\n",
       " ('soldier', 0.7249808311462402),\n",
       " ('poet', 0.7185976505279541),\n",
       " ('princess', 0.7181243896484375),\n",
       " ('nun', 0.7125148773193359)]"
      ]
     },
     "execution_count": 23,
     "metadata": {},
     "output_type": "execute_result"
    }
   ],
   "source": [
    "model.most_similar(positive=['woman','king'])"
   ]
  },
  {
   "cell_type": "markdown",
   "metadata": {
    "collapsed": true
   },
   "source": [
    "What do these indicate semantically?"
   ]
  },
  {
   "cell_type": "markdown",
   "metadata": {},
   "source": [
    "The expression 'king' - 'man' would represent words that describe a king that isn't male. 'woman' - 'man' would mean words that are related to a woman and not to a man. 'woman' + 'king' would mean words that relate a woman and a king together."
   ]
  },
  {
   "cell_type": "markdown",
   "metadata": {},
   "source": [
    "---\n",
    "\n",
    "## Visualization\n",
    "\n",
    "We can use multi-dimensional scaling to visualize this space just like we did with the documents before. But there are a lot of words here, so let's limit it to 50 words from our female gendered subset:"
   ]
  },
  {
   "cell_type": "code",
   "execution_count": 24,
   "metadata": {},
   "outputs": [],
   "source": [
    "her_tokens = [token for token,weight in model.most_similar(positive=['she','her','hers','herself'], \\\n",
    "                                                       negative=['he','him','his','himself'], topn=50)]"
   ]
  },
  {
   "cell_type": "markdown",
   "metadata": {},
   "source": [
    "We need to get the vector from each word, just like above, and add that to a list:"
   ]
  },
  {
   "cell_type": "code",
   "execution_count": 25,
   "metadata": {},
   "outputs": [],
   "source": [
    "vectors = [model[word] for word in her_tokens]    "
   ]
  },
  {
   "cell_type": "markdown",
   "metadata": {},
   "source": [
    "We can then calculate pairwise the cosine distance:"
   ]
  },
  {
   "cell_type": "code",
   "execution_count": 26,
   "metadata": {},
   "outputs": [],
   "source": [
    "from sklearn.metrics import pairwise\n",
    "dist_matrix = pairwise.pairwise_distances(vectors, metric='cosine')"
   ]
  },
  {
   "cell_type": "markdown",
   "metadata": {},
   "source": [
    "We'll use `MDS` to reduce the dimensions to two:"
   ]
  },
  {
   "cell_type": "code",
   "execution_count": 27,
   "metadata": {},
   "outputs": [],
   "source": [
    "from sklearn.manifold import MDS\n",
    "mds = MDS(n_components = 2, dissimilarity='precomputed')\n",
    "embeddings = mds.fit_transform(dist_matrix)"
   ]
  },
  {
   "cell_type": "markdown",
   "metadata": {},
   "source": [
    "Some fancy `matplotlib` code..."
   ]
  },
  {
   "cell_type": "code",
   "execution_count": 28,
   "metadata": {},
   "outputs": [
    {
     "data": {
      "image/png": "[encoded data removed]",
      "text/plain": [
       "<matplotlib.figure.Figure at 0x7f3664701518>"
      ]
     },
     "metadata": {},
     "output_type": "display_data"
    }
   ],
   "source": [
    "_, ax = plt.subplots(figsize=(10,10))\n",
    "ax.scatter(embeddings[:,0], embeddings[:,1], alpha=0)\n",
    "for i in range(len(vectors)):\n",
    "    ax.annotate(her_tokens[i], ((embeddings[i,0], embeddings[i,1])))"
   ]
  },
  {
   "cell_type": "markdown",
   "metadata": {
    "collapsed": true
   },
   "source": [
    "What kinds of semantic relationships exist in the diagram above? Are there any words that seem out of place? How do you think they go there?"
   ]
  },
  {
   "cell_type": "markdown",
   "metadata": {},
   "source": [
    "Words in the diagram are very relate to femininity, girlishness, softness, fragileness, and more. Some words like \"husbands\" and \"harden\" seem out of place. Women, when talked about in 18th century novels, are likely to be talked about in relation to their husbands. The \"harden\" could be an error in our model."
   ]
  },
  {
   "cell_type": "markdown",
   "metadata": {},
   "source": [
    "---\n",
    "\n",
    "# Saving/Loading Models\n",
    "\n",
    "We can save the model as a `.txt` file with the `save_word2vec_format` method:"
   ]
  },
  {
   "cell_type": "code",
   "execution_count": 29,
   "metadata": {},
   "outputs": [],
   "source": [
    "model.wv.save_word2vec_format('word2vec.txtalb_Novel150_English.txt')"
   ]
  },
  {
   "cell_type": "markdown",
   "metadata": {},
   "source": [
    "To load up a model, we just ask `gensim`. Here's a model trained on Eighteenth Century Collections Online corpus (~2500 texts) made available by Ryan Heuser: http://ryanheuser.org/word-vectors-1/"
   ]
  },
  {
   "cell_type": "code",
   "execution_count": 30,
   "metadata": {},
   "outputs": [],
   "source": [
    "ecco_model = gensim.models.KeyedVectors.load_word2vec_format('data/word2vec.ECCO-TCP.txt')"
   ]
  },
  {
   "cell_type": "code",
   "execution_count": 31,
   "metadata": {},
   "outputs": [
    {
     "data": {
      "text/plain": [
       "[('queen', 0.7854657173156738),\n",
       " ('emperor', 0.7523162364959717),\n",
       " ('prince', 0.7436755895614624),\n",
       " ('princess', 0.713316798210144),\n",
       " ('conqueror', 0.7111818194389343),\n",
       " ('regent', 0.7088087797164917),\n",
       " ('empress', 0.6977599263191223),\n",
       " ('sultan', 0.6729022264480591),\n",
       " ('confessor', 0.6569845676422119),\n",
       " ('duke', 0.6366889476776123)]"
      ]
     },
     "execution_count": 31,
     "metadata": {},
     "output_type": "execute_result"
    }
   ],
   "source": [
    "ecco_model.most_similar(positive=['woman', 'king'], negative=['man'])"
   ]
  },
  {
   "cell_type": "code",
   "execution_count": 32,
   "metadata": {},
   "outputs": [
    {
     "data": {
      "text/plain": [
       "[(\"harriet's\", 0.5708541870117188),\n",
       " ('softness', 0.5513930320739746),\n",
       " ('maiden', 0.5411286354064941),\n",
       " (\"chloe's\", 0.5403314828872681),\n",
       " ('lovely', 0.5320479869842529),\n",
       " ('coy', 0.5259038209915161),\n",
       " ('bewitching', 0.5255858898162842),\n",
       " ('soft', 0.5217857956886292),\n",
       " ('blushing', 0.5112706422805786),\n",
       " ('virgin', 0.5070083141326904)]"
      ]
     },
     "execution_count": 32,
     "metadata": {},
     "output_type": "execute_result"
    }
   ],
   "source": [
    "ecco_model.most_similar(positive=['she','her','hers','herself'], negative=['he','him','his','himself'])"
   ]
  },
  {
   "cell_type": "markdown",
   "metadata": {},
   "source": [
    "How does this differ from our novels model?"
   ]
  },
  {
   "cell_type": "markdown",
   "metadata": {},
   "source": [
    "The correlations in this model are slightly a bit higher."
   ]
  },
  {
   "cell_type": "markdown",
   "metadata": {
    "collapsed": true
   },
   "source": [
    "---\n",
    "\n",
    "# Homework\n",
    "\n",
    "Heuser's blog post explores an analogy in eighteenth-century thought that Riches are to Virtue what Learning is to Genius. How true is this in the ECCO-trained Word2Vec model? Is it true in the one we trained?\n",
    "\n",
    "How might we compare word2vec models more generally?"
   ]
  },
  {
   "cell_type": "code",
   "execution_count": 36,
   "metadata": {},
   "outputs": [
    {
     "data": {
      "text/plain": [
       "[('piety', 0.7372761368751526),\n",
       " ('morality', 0.7266900539398193),\n",
       " ('science', 0.6974709630012512),\n",
       " ('prudence', 0.6855395436286926),\n",
       " ('philosophy', 0.683079183101654),\n",
       " ('wisdom', 0.6511392593383789),\n",
       " ('genius', 0.6505820155143738),\n",
       " ('humanity', 0.640283465385437),\n",
       " ('modesty', 0.6369403004646301),\n",
       " ('morals', 0.6340599060058594)]"
      ]
     },
     "execution_count": 36,
     "metadata": {},
     "output_type": "execute_result"
    }
   ],
   "source": [
    "ecco_model.most_similar(positive=['learning', 'virtue'], negative=['riches'])"
   ]
  },
  {
   "cell_type": "code",
   "execution_count": 37,
   "metadata": {},
   "outputs": [
    {
     "data": {
      "text/plain": [
       "[('religion', 0.6889680624008179),\n",
       " ('honesty', 0.6413684487342834),\n",
       " ('principle', 0.6331804990768433),\n",
       " ('philosophy', 0.6291975975036621),\n",
       " ('science', 0.6242105960845947),\n",
       " ('wisdom', 0.6162780523300171),\n",
       " ('doctrine', 0.6005883812904358),\n",
       " ('teaching', 0.5990396738052368),\n",
       " ('theory', 0.5936211943626404),\n",
       " ('religious', 0.592136025428772)]"
      ]
     },
     "execution_count": 37,
     "metadata": {},
     "output_type": "execute_result"
    }
   ],
   "source": [
    "model.most_similar(positive=['learning', 'virtue'], negative=['riches'])"
   ]
  },
  {
   "cell_type": "markdown",
   "metadata": {},
   "source": [
    "It is sort of true in the Word2Vec model, since 'genius' does appear in its list of most similar words. It is not true in our model, since 'genius' doesn't even appear in the list of most similar words. We can compare word2vec models more generally by seeing how their most similar words compare for multiple analogies. We can use multi-dimensional scaling to visualize the space of the two models for multiple analogies."
   ]
  },
  {
   "cell_type": "markdown",
   "metadata": {},
   "source": [
    "---\n",
    "\n",
    "# Alternative features for a classification model\n",
    "\n",
    "This is really cool but what implications does this have for our model of language? Well, word embeddings are simply more precise features of what we've been trying to get at already. That means we can use them in the machine learning models we've been building.\n",
    "\n",
    "Recall our DTM bag of words classifier:"
   ]
  },
  {
   "cell_type": "code",
   "execution_count": 30,
   "metadata": {},
   "outputs": [
    {
     "name": "stdout",
     "output_type": "stream",
     "text": [
      "[nltk_data] Downloading package movie_reviews to /srv/app/nltk_data...\n",
      "[nltk_data]   Unzipping corpora/movie_reviews.zip.\n"
     ]
    },
    {
     "data": {
      "text/plain": [
       "True"
      ]
     },
     "execution_count": 30,
     "metadata": {},
     "output_type": "execute_result"
    }
   ],
   "source": [
    "import nltk\n",
    "nltk.download('movie_reviews')"
   ]
  },
  {
   "cell_type": "code",
   "execution_count": 31,
   "metadata": {},
   "outputs": [
    {
     "data": {
      "text/plain": [
       "0.87250000000000005"
      ]
     },
     "execution_count": 31,
     "metadata": {},
     "output_type": "execute_result"
    }
   ],
   "source": [
    "from nltk.corpus import movie_reviews\n",
    "from sklearn.pipeline import Pipeline\n",
    "from sklearn.feature_extraction.text import TfidfVectorizer, CountVectorizer, TfidfTransformer\n",
    "from sklearn.linear_model import LogisticRegression\n",
    "from sklearn.model_selection import cross_val_score, train_test_split\n",
    "from sklearn.utils import shuffle\n",
    "\n",
    "reviews = [movie_reviews.raw(fileid) for fileid in movie_reviews.fileids()]\n",
    "judgements = [movie_reviews.categories(fileid)[0] for fileid in movie_reviews.fileids()]\n",
    "\n",
    "np.random.seed(0)\n",
    "\n",
    "X, y = shuffle(reviews, judgements, random_state=0)\n",
    "X_train, X_test, y_train, y_test = train_test_split(X, y, test_size=0.2, random_state=50)\n",
    "\n",
    "# get tfidf values\n",
    "tfidf = TfidfVectorizer()\n",
    "tfidf.fit(X)\n",
    "X_train_transformed = tfidf.transform(X_train)\n",
    "X_test_transformed = tfidf.transform(X_test)\n",
    "\n",
    "# build and test logit\n",
    "logit_class = LogisticRegression(penalty='l2', C=1000)\n",
    "logit_model = logit_class.fit(X_train_transformed, y_train)\n",
    "logit_model.score(X_test_transformed, y_test)"
   ]
  },
  {
   "cell_type": "code",
   "execution_count": 32,
   "metadata": {},
   "outputs": [
    {
     "name": "stdout",
     "output_type": "stream",
     "text": [
      "  (0, 39482)\t0.0149841414947\n",
      "  (0, 39474)\t0.0345030768233\n",
      "  (0, 39422)\t0.0213437436018\n",
      "  (0, 39396)\t0.0144544442222\n",
      "  (0, 39269)\t0.0181623328864\n",
      "  (0, 39203)\t0.020693033426\n",
      "  (0, 39200)\t0.0327929894208\n",
      "  (0, 39165)\t0.0435264547455\n",
      "  (0, 39031)\t0.0294531298824\n",
      "  (0, 39013)\t0.0135878605544\n",
      "  (0, 38952)\t0.0266019615532\n",
      "  (0, 38849)\t0.0172920457952\n",
      "  (0, 38835)\t0.0409828918483\n",
      "  (0, 38811)\t0.017847241143\n",
      "  (0, 38781)\t0.0374593599495\n",
      "  (0, 38711)\t0.0373990816522\n",
      "  (0, 38707)\t0.0219887830607\n",
      "  (0, 38699)\t0.0116541610458\n",
      "  (0, 38696)\t0.0174684430988\n",
      "  (0, 38614)\t0.272537175332\n",
      "  (0, 38610)\t0.0213487428512\n",
      "  (0, 38508)\t0.0304715119971\n",
      "  (0, 38426)\t0.0162050803548\n",
      "  (0, 38405)\t0.0255704404464\n",
      "  (0, 38285)\t0.0734220193703\n",
      "  :\t:\n",
      "  (1599, 3209)\t0.0596711477613\n",
      "  (1599, 2954)\t0.0190221047383\n",
      "  (1599, 2746)\t0.102125517201\n",
      "  (1599, 2662)\t0.0424659765486\n",
      "  (1599, 2514)\t0.0501023995268\n",
      "  (1599, 2440)\t0.036887758569\n",
      "  (1599, 2396)\t0.0101538207029\n",
      "  (1599, 2351)\t0.0344622523885\n",
      "  (1599, 2217)\t0.0435462900877\n",
      "  (1599, 2013)\t0.0232850244456\n",
      "  (1599, 2006)\t0.0169516220772\n",
      "  (1599, 1810)\t0.11718635374\n",
      "  (1599, 1615)\t0.0244658469867\n",
      "  (1599, 1599)\t0.0454699813425\n",
      "  (1599, 1579)\t0.0158445568749\n",
      "  (1599, 1559)\t0.0216703030391\n",
      "  (1599, 1501)\t0.0380565119638\n",
      "  (1599, 1256)\t0.0158718967537\n",
      "  (1599, 982)\t0.0229023960436\n",
      "  (1599, 966)\t0.045249923964\n",
      "  (1599, 719)\t0.0366545417173\n",
      "  (1599, 291)\t0.0581672886126\n",
      "  (1599, 229)\t0.0771511476748\n",
      "  (1599, 208)\t0.0469956369909\n",
      "  (1599, 194)\t0.105021421167\n"
     ]
    }
   ],
   "source": [
    "print(X_train_transformed)"
   ]
  },
  {
   "cell_type": "markdown",
   "metadata": {},
   "source": [
    "---\n",
    "\n",
    "So how can we use word embeddings as features? Believe it or not, one of the most effective ways is to simply average each dimension of our embedding across all the words for a given document. Recall our w2v model for novels was trained for 100 dimensions. Creating the features for a specific document would entail first extracting the 100 dimensions for each word, then average each dimension across all words:"
   ]
  },
  {
   "cell_type": "code",
   "execution_count": 33,
   "metadata": {},
   "outputs": [
    {
     "data": {
      "text/plain": [
       "array([ -2.53365397e-01,   7.29394972e-01,   4.46595043e-01,\n",
       "        -1.03898317e-01,  -4.01734024e-01,  -2.11622104e-01,\n",
       "        -3.09558809e-01,   4.17446285e-01,   7.61919320e-01,\n",
       "        -7.86552355e-02,  -1.87649921e-01,  -2.55803764e-01,\n",
       "        -2.25380257e-01,  -1.90770224e-01,  -2.26172939e-01,\n",
       "         6.84684664e-02,   4.97157216e-01,   2.08740473e-01,\n",
       "         2.73540497e-01,   2.66548060e-03,  -1.49608478e-01,\n",
       "        -8.36742893e-02,  -1.46228541e-02,  -4.39940602e-01,\n",
       "         6.64345771e-02,  -1.07857049e-01,   1.42971009e-01,\n",
       "        -4.59211528e-01,   1.69700205e-01,   5.95320582e-01,\n",
       "        -1.99764952e-01,  -3.25701050e-02,   1.26501739e-01,\n",
       "        -1.04102187e-01,  -6.99892223e-01,   1.37701910e-02,\n",
       "        -1.18889354e-01,  -2.33929321e-01,  -3.58770996e-01,\n",
       "        -2.37076640e-01,   4.48607475e-01,   1.20104343e-01,\n",
       "         5.17350733e-01,  -7.83679599e-04,   2.03610852e-01,\n",
       "         1.67940930e-01,  -4.02731061e-01,  -8.81245553e-01,\n",
       "        -1.37067050e-01,  -2.90409625e-01,   2.16971859e-01,\n",
       "        -4.22496617e-01,   1.09822944e-01,   4.87792164e-01,\n",
       "         3.34491618e-02,  -8.04835036e-02,  -2.47016206e-01,\n",
       "        -1.68930274e-02,   7.69989341e-02,   3.11930209e-01,\n",
       "         2.34426111e-01,  -4.46855396e-01,  -9.07741711e-02,\n",
       "         6.19011521e-01,   5.72533980e-02,  -3.37463409e-01,\n",
       "        -1.96843699e-01,   6.07071161e-01,   3.03945124e-01,\n",
       "         7.41839781e-02,   2.84092695e-01,   3.86024863e-01,\n",
       "         4.25458163e-01,  -1.05177425e-02,   2.68027991e-01,\n",
       "        -5.90774775e-01,   3.32051873e-01,   7.40890875e-02,\n",
       "        -2.23718658e-01,  -9.87683162e-02,  -5.45767963e-01,\n",
       "        -1.06675476e-02,  -1.79374203e-01,  -8.91768157e-01,\n",
       "         1.86291620e-01,   8.05890071e-04,   1.16065018e-01,\n",
       "        -2.79451698e-01,  -4.17514622e-01,  -4.01633531e-01,\n",
       "         6.53188050e-01,   1.99763536e-01,  -7.12453425e-01,\n",
       "         2.08949268e-01,   7.39666998e-01,   3.02934080e-01,\n",
       "        -3.05657327e-01,   4.46321964e-01,   1.22907376e-02,\n",
       "        -1.05923206e-01], dtype=float32)"
      ]
     },
     "execution_count": 33,
     "metadata": {},
     "output_type": "execute_result"
    }
   ],
   "source": [
    "np.mean([model[w] for w in fast_tokenize(X[0]) if w in model], axis=0)"
   ]
  },
  {
   "cell_type": "markdown",
   "metadata": {},
   "source": [
    "This gives us a set `X` array with 100 features. We can write a function to do this for us for any given string:"
   ]
  },
  {
   "cell_type": "code",
   "execution_count": 34,
   "metadata": {},
   "outputs": [],
   "source": [
    "def w2v_featurize(document, model):\n",
    "    return np.mean([model[w] for w in fast_tokenize(document) if w in model], axis=0)"
   ]
  },
  {
   "cell_type": "markdown",
   "metadata": {},
   "source": [
    "We can then featurize all of our documents:"
   ]
  },
  {
   "cell_type": "code",
   "execution_count": 35,
   "metadata": {},
   "outputs": [],
   "source": [
    "X_train_w2v = [w2v_featurize(d, model) for d in X_train]\n",
    "X_test_w2v = [w2v_featurize(d, model) for d in X_test]"
   ]
  },
  {
   "cell_type": "markdown",
   "metadata": {},
   "source": [
    "We can fit and score the machine learning modle just as before:"
   ]
  },
  {
   "cell_type": "code",
   "execution_count": 36,
   "metadata": {},
   "outputs": [
    {
     "data": {
      "text/plain": [
       "0.78749999999999998"
      ]
     },
     "execution_count": 36,
     "metadata": {},
     "output_type": "execute_result"
    }
   ],
   "source": [
    "logit_class = LogisticRegression(random_state=0, penalty='l2', C=1000)\n",
    "logit_model = logit_class.fit(X_train_w2v, y_train)\n",
    "logit_model.score(X_test_w2v, y_test)"
   ]
  },
  {
   "cell_type": "markdown",
   "metadata": {},
   "source": [
    "What about Heuser's model?"
   ]
  },
  {
   "cell_type": "code",
   "execution_count": 37,
   "metadata": {},
   "outputs": [
    {
     "data": {
      "text/plain": [
       "0.77249999999999996"
      ]
     },
     "execution_count": 37,
     "metadata": {},
     "output_type": "execute_result"
    }
   ],
   "source": [
    "X_train_w2v = [w2v_featurize(d, ecco_model) for d in X_train]\n",
    "X_test_w2v = [w2v_featurize(d, ecco_model) for d in X_test]\n",
    "logit_class = LogisticRegression(random_state=0, penalty='l2', C=1000)\n",
    "logit_model = logit_class.fit(X_train_w2v, y_train)\n",
    "logit_model.score(X_test_w2v, y_test)"
   ]
  },
  {
   "cell_type": "markdown",
   "metadata": {},
   "source": [
    "Cool! But wait, what if we wanted to know *why* the model was making decisions. If we ask for the most postive coefficients:"
   ]
  },
  {
   "cell_type": "code",
   "execution_count": 38,
   "metadata": {},
   "outputs": [
    {
     "data": {
      "text/plain": [
       "array([77, 67, 88, 81, 15, 47, 57, 36, 90, 70])"
      ]
     },
     "execution_count": 38,
     "metadata": {},
     "output_type": "execute_result"
    }
   ],
   "source": [
    "np.argsort(logit_model.coef_[0])[-10:]"
   ]
  },
  {
   "cell_type": "markdown",
   "metadata": {},
   "source": [
    "And the negative:"
   ]
  },
  {
   "cell_type": "code",
   "execution_count": 39,
   "metadata": {},
   "outputs": [
    {
     "data": {
      "text/plain": [
       "array([97, 96, 49, 87,  0, 52, 84, 42, 43,  1])"
      ]
     },
     "execution_count": 39,
     "metadata": {},
     "output_type": "execute_result"
    }
   ],
   "source": [
    "np.argsort(logit_model.coef_[0])[:10]"
   ]
  },
  {
   "cell_type": "markdown",
   "metadata": {},
   "source": [
    "These are the *indices* for the important features. ***But what are these features now?***\n",
    "\n",
    "---\n",
    "\n",
    "Note that using our novels w2v model was not as accurate as a BoW tfidf method. That should be expected given movie review language is likely ***VERY*** different from our novel corpus. And our novel corpus likely didn't even have entries for a lot of the words used in our movie reviews corpus.\n",
    "\n",
    "For modern English, most people look for Stanford's [GloVe](https://nlp.stanford.edu/projects/glove/) model. This was trained on 6 billion tokens from Wikipedia and Gigaword! Quite a step up from 150 novels. Even the smallest model is a bit large to be working with on our cloud server, but using this model and the code below, you can see it's power:"
   ]
  },
  {
   "cell_type": "markdown",
   "metadata": {},
   "source": [
    "```python\n",
    ">>> os.system('python -m gensim.scripts.glove2word2vec -i glove.6B.100d.txt -o glove.6B.100d.w2v.txt')\n",
    ">>> glove = gensim.models.KeyedVectors.load_word2vec_format('glove.6B.100d.w2v.txt')\n",
    "\n",
    ">>> X_train_glove = [w2v_featurize(d, glove) for d in X_train]\n",
    ">>> X_test_glove = [w2v_featurize(d, glove) for d in X_test]\n",
    "\n",
    ">>> logit_class = LogisticRegression(random_state=0, penalty='l2', C=1000)\n",
    ">>> logit_model = logit_class.fit(X_train_glove, y_train)\n",
    ">>> logit_model.score(X_test_glove, y_test)\n",
    "\n",
    ".8125\n",
    "```"
   ]
  },
  {
   "cell_type": "markdown",
   "metadata": {},
   "source": [
    "While this is not as accurate as our BoW *tfidf* method, there have been several applications and transformations of word embeddings that have proven to be more accurate than a BoW *tfidf* on general modern text corpora. And keep in mind, one of the most interesting parts of this is that it only uses 100 dimensions, i.e., we can get ~81% accuracy by reducing a movie review to only 100 different features (our BoW model had over 39000!)."
   ]
  },
  {
   "cell_type": "code",
   "execution_count": 1,
   "metadata": {},
   "outputs": [
    {
     "ename": "NameError",
     "evalue": "name 'X_train_transformed' is not defined",
     "output_type": "error",
     "traceback": [
      "\u001b[0;31m---------------------------------------------------------------------------\u001b[0m",
      "\u001b[0;31mNameError\u001b[0m                                 Traceback (most recent call last)",
      "\u001b[0;32m<ipython-input-1-d8ecdd49129e>\u001b[0m in \u001b[0;36m<module>\u001b[0;34m()\u001b[0m\n\u001b[0;32m----> 1\u001b[0;31m \u001b[0mX_train_transformed\u001b[0m\u001b[0;34m\u001b[0m\u001b[0m\n\u001b[0m",
      "\u001b[0;31mNameError\u001b[0m: name 'X_train_transformed' is not defined"
     ]
    }
   ],
   "source": [
    "X_train_transformed"
   ]
  },
  {
   "cell_type": "code",
   "execution_count": 7,
   "metadata": {},
   "outputs": [
    {
     "name": "stdout",
     "output_type": "stream",
     "text": [
      "Collecting textblob\n",
      "  Downloading textblob-0.13.1-py2.py3-none-any.whl (631kB)\n",
      "\u001b[K    100% |████████████████████████████████| 634kB 11.1MB/s a 0:00:011\n",
      "\u001b[?25hRequirement already satisfied: nltk>=3.1 in /srv/app/venv/lib/python3.6/site-packages (from textblob)\n",
      "Requirement already satisfied: six in /srv/app/venv/lib/python3.6/site-packages (from nltk>=3.1->textblob)\n",
      "Installing collected packages: textblob\n",
      "Successfully installed textblob-0.13.1\n"
     ]
    }
   ],
   "source": [
    "!pip install --no-cache-dir textblob"
   ]
  },
  {
   "cell_type": "code",
   "execution_count": 8,
   "metadata": {},
   "outputs": [],
   "source": [
    "from textblob import TextBlob"
   ]
  },
  {
   "cell_type": "code",
   "execution_count": 9,
   "metadata": {},
   "outputs": [],
   "source": [
    "my_blob = 'this movvie sucks. Cinetmetography was awesome'"
   ]
  },
  {
   "cell_type": "code",
   "execution_count": 10,
   "metadata": {},
   "outputs": [],
   "source": [
    "blob_object = TextBlob(my_blob)"
   ]
  },
  {
   "cell_type": "code",
   "execution_count": 11,
   "metadata": {},
   "outputs": [
    {
     "data": {
      "text/plain": [
       "[Sentence(\"this movvie sucks.\"), Sentence(\"Cinetmetography was awesome\")]"
      ]
     },
     "execution_count": 11,
     "metadata": {},
     "output_type": "execute_result"
    }
   ],
   "source": [
    "[s for s in blob_object.sentences]"
   ]
  },
  {
   "cell_type": "code",
   "execution_count": 12,
   "metadata": {},
   "outputs": [
    {
     "name": "stdout",
     "output_type": "stream",
     "text": [
      "this movvie sucks.\n",
      "-0.3\n",
      "Cinetmetography was awesome\n",
      "1.0\n"
     ]
    }
   ],
   "source": [
    "for s in blob_object.sentences:\n",
    "    print(s)\n",
    "    print(s.sentiment.polarity)"
   ]
  },
  {
   "cell_type": "code",
   "execution_count": null,
   "metadata": {},
   "outputs": [],
   "source": []
  }
 ],
 "metadata": {
  "anaconda-cloud": {},
  "kernelspec": {
   "display_name": "Python 3",
   "language": "python",
   "name": "python3"
  },
  "language_info": {
   "codemirror_mode": {
    "name": "ipython",
    "version": 3
   },
   "file_extension": ".py",
   "mimetype": "text/x-python",
   "name": "python",
   "nbconvert_exporter": "python",
   "pygments_lexer": "ipython3",
   "version": "3.6.1"
  }
 },
 "nbformat": 4,
 "nbformat_minor": 1
}
